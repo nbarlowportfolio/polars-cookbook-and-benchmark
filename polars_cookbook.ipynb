{
 "cells": [
  {
   "cell_type": "markdown",
   "metadata": {},
   "source": [
    "This Jupyter Notebook is based on the Pola.rs User Guide, but: \n",
    "- with fixes\n",
    "- downloadable \n",
    "\n",
    "Polars is like Pandas, but faster.\n",
    "\n",
    "Official Documentation: https://docs.pola.rs/"
   ]
  },
  {
   "cell_type": "code",
   "execution_count": 83,
   "metadata": {},
   "outputs": [
    {
     "name": "stdout",
     "output_type": "stream",
     "text": [
      "Requirement already satisfied: polars in ./.venv_polars/lib/python3.10/site-packages (0.20.3)\n",
      "\n",
      "\u001b[1m[\u001b[0m\u001b[34;49mnotice\u001b[0m\u001b[1;39;49m]\u001b[0m\u001b[39;49m A new release of pip is available: \u001b[0m\u001b[31;49m23.0.1\u001b[0m\u001b[39;49m -> \u001b[0m\u001b[32;49m23.3.2\u001b[0m\n",
      "\u001b[1m[\u001b[0m\u001b[34;49mnotice\u001b[0m\u001b[1;39;49m]\u001b[0m\u001b[39;49m To update, run: \u001b[0m\u001b[32;49mpip install --upgrade pip\u001b[0m\n"
     ]
    }
   ],
   "source": [
    "# This installs libraries into the environment.\n",
    "!pip install polars"
   ]
  },
  {
   "cell_type": "code",
   "execution_count": 84,
   "metadata": {},
   "outputs": [],
   "source": [
    "import polars as pl\n",
    "from datetime import datetime\n",
    "import numpy as np"
   ]
  },
  {
   "cell_type": "markdown",
   "metadata": {},
   "source": [
    "### Polars Basics"
   ]
  },
  {
   "cell_type": "code",
   "execution_count": 85,
   "metadata": {},
   "outputs": [
    {
     "name": "stdout",
     "output_type": "stream",
     "text": [
      "['a', 'b', 'c']\n",
      "(3, 3)\n",
      "shape: (3, 3)\n",
      "┌─────┬─────────────────────┬─────┐\n",
      "│ a   ┆ b                   ┆ c   │\n",
      "│ --- ┆ ---                 ┆ --- │\n",
      "│ i64 ┆ datetime[μs]        ┆ f64 │\n",
      "╞═════╪═════════════════════╪═════╡\n",
      "│ 1   ┆ 2022-01-01 00:00:00 ┆ 4.0 │\n",
      "│ 2   ┆ 2022-01-02 00:00:00 ┆ 5.0 │\n",
      "│ 3   ┆ 2022-01-03 00:00:00 ┆ 6.0 │\n",
      "└─────┴─────────────────────┴─────┘\n"
     ]
    }
   ],
   "source": [
    "df = pl.DataFrame(\n",
    "    {\n",
    "        \"a\": [1, 2, 3],\n",
    "        \"b\": [\n",
    "            datetime(2022, 1, 1),\n",
    "            datetime(2022, 1, 2),\n",
    "            datetime(2022, 1, 3),\n",
    "        ],\n",
    "        \"c\": [4.0, 5.0, 6.0],\n",
    "    }\n",
    ")\n",
    "print(df.columns)\n",
    "print(df.shape)\n",
    "print(df)"
   ]
  },
  {
   "cell_type": "markdown",
   "metadata": {},
   "source": [
    "### File IO"
   ]
  },
  {
   "cell_type": "code",
   "execution_count": 86,
   "metadata": {},
   "outputs": [
    {
     "name": "stdout",
     "output_type": "stream",
     "text": [
      "shape: (3, 3)\n",
      "┌─────┬────────────────────────────┬─────┐\n",
      "│ a   ┆ b                          ┆ c   │\n",
      "│ --- ┆ ---                        ┆ --- │\n",
      "│ i64 ┆ str                        ┆ f64 │\n",
      "╞═════╪════════════════════════════╪═════╡\n",
      "│ 1   ┆ 2022-01-01T00:00:00.000000 ┆ 4.0 │\n",
      "│ 2   ┆ 2022-01-02T00:00:00.000000 ┆ 5.0 │\n",
      "│ 3   ┆ 2022-01-03T00:00:00.000000 ┆ 6.0 │\n",
      "└─────┴────────────────────────────┴─────┘\n"
     ]
    }
   ],
   "source": [
    "df.write_csv(\"docs/data/cookbook_output.csv\")\n",
    "df_csv = pl.read_csv(\"docs/data/cookbook_output.csv\")\n",
    "print(df_csv)"
   ]
  },
  {
   "cell_type": "code",
   "execution_count": 87,
   "metadata": {},
   "outputs": [
    {
     "name": "stdout",
     "output_type": "stream",
     "text": [
      "shape: (3, 3)\n",
      "┌─────┬─────────────────────┬─────┐\n",
      "│ a   ┆ b                   ┆ c   │\n",
      "│ --- ┆ ---                 ┆ --- │\n",
      "│ i64 ┆ datetime[μs]        ┆ f64 │\n",
      "╞═════╪═════════════════════╪═════╡\n",
      "│ 1   ┆ 2022-01-01 00:00:00 ┆ 4.0 │\n",
      "│ 2   ┆ 2022-01-02 00:00:00 ┆ 5.0 │\n",
      "│ 3   ┆ 2022-01-03 00:00:00 ┆ 6.0 │\n",
      "└─────┴─────────────────────┴─────┘\n"
     ]
    }
   ],
   "source": [
    "df_csv = pl.read_csv(\"docs/data/cookbook_output.csv\", try_parse_dates=True)\n",
    "print(df_csv)"
   ]
  },
  {
   "cell_type": "code",
   "execution_count": 88,
   "metadata": {},
   "outputs": [
    {
     "name": "stdout",
     "output_type": "stream",
     "text": [
      "shape: (3, 3)\n",
      "┌─────┬─────────────────────┬─────┐\n",
      "│ a   ┆ b                   ┆ c   │\n",
      "│ --- ┆ ---                 ┆ --- │\n",
      "│ i64 ┆ datetime[μs]        ┆ f64 │\n",
      "╞═════╪═════════════════════╪═════╡\n",
      "│ 1   ┆ 2022-01-01 00:00:00 ┆ 4.0 │\n",
      "│ 2   ┆ 2022-01-02 00:00:00 ┆ 5.0 │\n",
      "│ 3   ┆ 2022-01-03 00:00:00 ┆ 6.0 │\n",
      "└─────┴─────────────────────┴─────┘\n"
     ]
    }
   ],
   "source": [
    "df.write_json(\"docs/data/cookbook_output.json\")\n",
    "df_json = pl.read_json(\"docs/data/cookbook_output.json\")\n",
    "print(df_json)"
   ]
  },
  {
   "cell_type": "code",
   "execution_count": 89,
   "metadata": {},
   "outputs": [
    {
     "name": "stdout",
     "output_type": "stream",
     "text": [
      "shape: (3, 3)\n",
      "┌─────┬─────────────────────┬─────┐\n",
      "│ a   ┆ b                   ┆ c   │\n",
      "│ --- ┆ ---                 ┆ --- │\n",
      "│ i64 ┆ datetime[μs]        ┆ f64 │\n",
      "╞═════╪═════════════════════╪═════╡\n",
      "│ 1   ┆ 2022-01-01 00:00:00 ┆ 4.0 │\n",
      "│ 2   ┆ 2022-01-02 00:00:00 ┆ 5.0 │\n",
      "│ 3   ┆ 2022-01-03 00:00:00 ┆ 6.0 │\n",
      "└─────┴─────────────────────┴─────┘\n"
     ]
    }
   ],
   "source": [
    "df.write_parquet(\"docs/data/cookbook_output.parquet\")\n",
    "df_parquet = pl.read_parquet(\"docs/data/cookbook_output.parquet\")\n",
    "print(df_parquet)"
   ]
  },
  {
   "cell_type": "markdown",
   "metadata": {},
   "source": [
    "### Queries\n",
    "- select\n",
    "- limit\n",
    "- exclude\n",
    "- filter (is_between)\n"
   ]
  },
  {
   "cell_type": "code",
   "execution_count": 90,
   "metadata": {},
   "outputs": [
    {
     "data": {
      "text/html": [
       "<div><style>\n",
       ".dataframe > thead > tr,\n",
       ".dataframe > tbody > tr {\n",
       "  text-align: right;\n",
       "  white-space: pre-wrap;\n",
       "}\n",
       "</style>\n",
       "<small>shape: (3, 3)</small><table border=\"1\" class=\"dataframe\"><thead><tr><th>a</th><th>b</th><th>c</th></tr><tr><td>i64</td><td>datetime[μs]</td><td>f64</td></tr></thead><tbody><tr><td>1</td><td>2022-01-01 00:00:00</td><td>4.0</td></tr><tr><td>2</td><td>2022-01-02 00:00:00</td><td>5.0</td></tr><tr><td>3</td><td>2022-01-03 00:00:00</td><td>6.0</td></tr></tbody></table></div>"
      ],
      "text/plain": [
       "shape: (3, 3)\n",
       "┌─────┬─────────────────────┬─────┐\n",
       "│ a   ┆ b                   ┆ c   │\n",
       "│ --- ┆ ---                 ┆ --- │\n",
       "│ i64 ┆ datetime[μs]        ┆ f64 │\n",
       "╞═════╪═════════════════════╪═════╡\n",
       "│ 1   ┆ 2022-01-01 00:00:00 ┆ 4.0 │\n",
       "│ 2   ┆ 2022-01-02 00:00:00 ┆ 5.0 │\n",
       "│ 3   ┆ 2022-01-03 00:00:00 ┆ 6.0 │\n",
       "└─────┴─────────────────────┴─────┘"
      ]
     },
     "execution_count": 90,
     "metadata": {},
     "output_type": "execute_result"
    }
   ],
   "source": [
    "all = pl.col(\"*\")\n",
    "df.select(all)"
   ]
  },
  {
   "cell_type": "code",
   "execution_count": 91,
   "metadata": {},
   "outputs": [
    {
     "data": {
      "text/html": [
       "<div><style>\n",
       ".dataframe > thead > tr,\n",
       ".dataframe > tbody > tr {\n",
       "  text-align: right;\n",
       "  white-space: pre-wrap;\n",
       "}\n",
       "</style>\n",
       "<small>shape: (3, 2)</small><table border=\"1\" class=\"dataframe\"><thead><tr><th>a</th><th>b</th></tr><tr><td>i64</td><td>datetime[μs]</td></tr></thead><tbody><tr><td>1</td><td>2022-01-01 00:00:00</td></tr><tr><td>2</td><td>2022-01-02 00:00:00</td></tr><tr><td>3</td><td>2022-01-03 00:00:00</td></tr></tbody></table></div>"
      ],
      "text/plain": [
       "shape: (3, 2)\n",
       "┌─────┬─────────────────────┐\n",
       "│ a   ┆ b                   │\n",
       "│ --- ┆ ---                 │\n",
       "│ i64 ┆ datetime[μs]        │\n",
       "╞═════╪═════════════════════╡\n",
       "│ 1   ┆ 2022-01-01 00:00:00 │\n",
       "│ 2   ┆ 2022-01-02 00:00:00 │\n",
       "│ 3   ┆ 2022-01-03 00:00:00 │\n",
       "└─────┴─────────────────────┘"
      ]
     },
     "execution_count": 91,
     "metadata": {},
     "output_type": "execute_result"
    }
   ],
   "source": [
    "df.select(pl.col(\"a\", \"b\"))"
   ]
  },
  {
   "cell_type": "code",
   "execution_count": 92,
   "metadata": {},
   "outputs": [
    {
     "data": {
      "text/html": [
       "<div><style>\n",
       ".dataframe > thead > tr,\n",
       ".dataframe > tbody > tr {\n",
       "  text-align: right;\n",
       "  white-space: pre-wrap;\n",
       "}\n",
       "</style>\n",
       "<small>shape: (1, 2)</small><table border=\"1\" class=\"dataframe\"><thead><tr><th>a</th><th>b</th></tr><tr><td>i64</td><td>datetime[μs]</td></tr></thead><tbody><tr><td>1</td><td>2022-01-01 00:00:00</td></tr></tbody></table></div>"
      ],
      "text/plain": [
       "shape: (1, 2)\n",
       "┌─────┬─────────────────────┐\n",
       "│ a   ┆ b                   │\n",
       "│ --- ┆ ---                 │\n",
       "│ i64 ┆ datetime[μs]        │\n",
       "╞═════╪═════════════════════╡\n",
       "│ 1   ┆ 2022-01-01 00:00:00 │\n",
       "└─────┴─────────────────────┘"
      ]
     },
     "execution_count": 92,
     "metadata": {},
     "output_type": "execute_result"
    }
   ],
   "source": [
    "df.select(pl.col('a'), pl.col('b')).limit(1)"
   ]
  },
  {
   "cell_type": "code",
   "execution_count": 93,
   "metadata": {},
   "outputs": [
    {
     "data": {
      "text/html": [
       "<div><style>\n",
       ".dataframe > thead > tr,\n",
       ".dataframe > tbody > tr {\n",
       "  text-align: right;\n",
       "  white-space: pre-wrap;\n",
       "}\n",
       "</style>\n",
       "<small>shape: (3, 2)</small><table border=\"1\" class=\"dataframe\"><thead><tr><th>b</th><th>c</th></tr><tr><td>datetime[μs]</td><td>f64</td></tr></thead><tbody><tr><td>2022-01-01 00:00:00</td><td>4.0</td></tr><tr><td>2022-01-02 00:00:00</td><td>5.0</td></tr><tr><td>2022-01-03 00:00:00</td><td>6.0</td></tr></tbody></table></div>"
      ],
      "text/plain": [
       "shape: (3, 2)\n",
       "┌─────────────────────┬─────┐\n",
       "│ b                   ┆ c   │\n",
       "│ ---                 ┆ --- │\n",
       "│ datetime[μs]        ┆ f64 │\n",
       "╞═════════════════════╪═════╡\n",
       "│ 2022-01-01 00:00:00 ┆ 4.0 │\n",
       "│ 2022-01-02 00:00:00 ┆ 5.0 │\n",
       "│ 2022-01-03 00:00:00 ┆ 6.0 │\n",
       "└─────────────────────┴─────┘"
      ]
     },
     "execution_count": 93,
     "metadata": {},
     "output_type": "execute_result"
    }
   ],
   "source": [
    "df.select(pl.exclude('a'))"
   ]
  },
  {
   "cell_type": "code",
   "execution_count": 94,
   "metadata": {},
   "outputs": [
    {
     "data": {
      "text/html": [
       "<div><style>\n",
       ".dataframe > thead > tr,\n",
       ".dataframe > tbody > tr {\n",
       "  text-align: right;\n",
       "  white-space: pre-wrap;\n",
       "}\n",
       "</style>\n",
       "<small>shape: (0, 3)</small><table border=\"1\" class=\"dataframe\"><thead><tr><th>a</th><th>b</th><th>c</th></tr><tr><td>i64</td><td>datetime[μs]</td><td>f64</td></tr></thead><tbody></tbody></table></div>"
      ],
      "text/plain": [
       "shape: (0, 3)\n",
       "┌─────┬──────────────┬─────┐\n",
       "│ a   ┆ b            ┆ c   │\n",
       "│ --- ┆ ---          ┆ --- │\n",
       "│ i64 ┆ datetime[μs] ┆ f64 │\n",
       "╞═════╪══════════════╪═════╡\n",
       "└─────┴──────────────┴─────┘"
      ]
     },
     "execution_count": 94,
     "metadata": {},
     "output_type": "execute_result"
    }
   ],
   "source": [
    "df.filter(\n",
    "    pl.col('c').is_between(datetime(2022, 12, 2), datetime(2022, 12, 8))\n",
    ")"
   ]
  },
  {
   "cell_type": "code",
   "execution_count": 95,
   "metadata": {},
   "outputs": [
    {
     "data": {
      "text/html": [
       "<div><style>\n",
       ".dataframe > thead > tr,\n",
       ".dataframe > tbody > tr {\n",
       "  text-align: right;\n",
       "  white-space: pre-wrap;\n",
       "}\n",
       "</style>\n",
       "<small>shape: (3, 3)</small><table border=\"1\" class=\"dataframe\"><thead><tr><th>a</th><th>b</th><th>c</th></tr><tr><td>i64</td><td>datetime[μs]</td><td>f64</td></tr></thead><tbody><tr><td>1</td><td>2022-01-01 00:00:00</td><td>4.0</td></tr><tr><td>2</td><td>2022-01-02 00:00:00</td><td>5.0</td></tr><tr><td>3</td><td>2022-01-03 00:00:00</td><td>6.0</td></tr></tbody></table></div>"
      ],
      "text/plain": [
       "shape: (3, 3)\n",
       "┌─────┬─────────────────────┬─────┐\n",
       "│ a   ┆ b                   ┆ c   │\n",
       "│ --- ┆ ---                 ┆ --- │\n",
       "│ i64 ┆ datetime[μs]        ┆ f64 │\n",
       "╞═════╪═════════════════════╪═════╡\n",
       "│ 1   ┆ 2022-01-01 00:00:00 ┆ 4.0 │\n",
       "│ 2   ┆ 2022-01-02 00:00:00 ┆ 5.0 │\n",
       "│ 3   ┆ 2022-01-03 00:00:00 ┆ 6.0 │\n",
       "└─────┴─────────────────────┴─────┘"
      ]
     },
     "execution_count": 95,
     "metadata": {},
     "output_type": "execute_result"
    }
   ],
   "source": [
    "df.filter((pl.col(\"a\") <= 3) & (pl.col(\"c\").is_not_nan()))"
   ]
  },
  {
   "cell_type": "markdown",
   "metadata": {},
   "source": [
    "### Feature Engineering"
   ]
  },
  {
   "cell_type": "code",
   "execution_count": 96,
   "metadata": {},
   "outputs": [
    {
     "data": {
      "text/html": [
       "<div><style>\n",
       ".dataframe > thead > tr,\n",
       ".dataframe > tbody > tr {\n",
       "  text-align: right;\n",
       "  white-space: pre-wrap;\n",
       "}\n",
       "</style>\n",
       "<small>shape: (3, 5)</small><table border=\"1\" class=\"dataframe\"><thead><tr><th>a</th><th>b</th><th>c</th><th>d</th><th>c+42</th></tr><tr><td>i64</td><td>datetime[μs]</td><td>f64</td><td>f64</td><td>f64</td></tr></thead><tbody><tr><td>1</td><td>2022-01-01 00:00:00</td><td>4.0</td><td>15.0</td><td>46.0</td></tr><tr><td>2</td><td>2022-01-02 00:00:00</td><td>5.0</td><td>15.0</td><td>47.0</td></tr><tr><td>3</td><td>2022-01-03 00:00:00</td><td>6.0</td><td>15.0</td><td>48.0</td></tr></tbody></table></div>"
      ],
      "text/plain": [
       "shape: (3, 5)\n",
       "┌─────┬─────────────────────┬─────┬──────┬──────┐\n",
       "│ a   ┆ b                   ┆ c   ┆ d    ┆ c+42 │\n",
       "│ --- ┆ ---                 ┆ --- ┆ ---  ┆ ---  │\n",
       "│ i64 ┆ datetime[μs]        ┆ f64 ┆ f64  ┆ f64  │\n",
       "╞═════╪═════════════════════╪═════╪══════╪══════╡\n",
       "│ 1   ┆ 2022-01-01 00:00:00 ┆ 4.0 ┆ 15.0 ┆ 46.0 │\n",
       "│ 2   ┆ 2022-01-02 00:00:00 ┆ 5.0 ┆ 15.0 ┆ 47.0 │\n",
       "│ 3   ┆ 2022-01-03 00:00:00 ┆ 6.0 ┆ 15.0 ┆ 48.0 │\n",
       "└─────┴─────────────────────┴─────┴──────┴──────┘"
      ]
     },
     "execution_count": 96,
     "metadata": {},
     "output_type": "execute_result"
    }
   ],
   "source": [
    "df.with_columns(pl.col(\"c\").sum().alias(\"d\"), (pl.col(\"c\") + 42).alias(\"c+42\"))"
   ]
  },
  {
   "cell_type": "code",
   "execution_count": 97,
   "metadata": {},
   "outputs": [
    {
     "data": {
      "text/html": [
       "<div><style>\n",
       ".dataframe > thead > tr,\n",
       ".dataframe > tbody > tr {\n",
       "  text-align: right;\n",
       "  white-space: pre-wrap;\n",
       "}\n",
       "</style>\n",
       "<small>shape: (8, 2)</small><table border=\"1\" class=\"dataframe\"><thead><tr><th>x</th><th>y</th></tr><tr><td>i64</td><td>str</td></tr></thead><tbody><tr><td>0</td><td>&quot;A&quot;</td></tr><tr><td>1</td><td>&quot;A&quot;</td></tr><tr><td>2</td><td>&quot;A&quot;</td></tr><tr><td>3</td><td>&quot;B&quot;</td></tr><tr><td>4</td><td>&quot;B&quot;</td></tr><tr><td>5</td><td>&quot;C&quot;</td></tr><tr><td>6</td><td>&quot;X&quot;</td></tr><tr><td>7</td><td>&quot;X&quot;</td></tr></tbody></table></div>"
      ],
      "text/plain": [
       "shape: (8, 2)\n",
       "┌─────┬─────┐\n",
       "│ x   ┆ y   │\n",
       "│ --- ┆ --- │\n",
       "│ i64 ┆ str │\n",
       "╞═════╪═════╡\n",
       "│ 0   ┆ A   │\n",
       "│ 1   ┆ A   │\n",
       "│ 2   ┆ A   │\n",
       "│ 3   ┆ B   │\n",
       "│ 4   ┆ B   │\n",
       "│ 5   ┆ C   │\n",
       "│ 6   ┆ X   │\n",
       "│ 7   ┆ X   │\n",
       "└─────┴─────┘"
      ]
     },
     "execution_count": 97,
     "metadata": {},
     "output_type": "execute_result"
    }
   ],
   "source": [
    "df2 = pl.DataFrame(\n",
    "    {\n",
    "        \"x\": range(8),\n",
    "        \"y\": [\"A\", \"A\", \"A\", \"B\", \"B\", \"C\", \"X\", \"X\"],\n",
    "    }\n",
    ")\n",
    "df2"
   ]
  },
  {
   "cell_type": "code",
   "execution_count": 98,
   "metadata": {},
   "outputs": [
    {
     "data": {
      "text/html": [
       "<div><style>\n",
       ".dataframe > thead > tr,\n",
       ".dataframe > tbody > tr {\n",
       "  text-align: right;\n",
       "  white-space: pre-wrap;\n",
       "}\n",
       "</style>\n",
       "<small>shape: (4, 2)</small><table border=\"1\" class=\"dataframe\"><thead><tr><th>y</th><th>count</th></tr><tr><td>str</td><td>u32</td></tr></thead><tbody><tr><td>&quot;A&quot;</td><td>3</td></tr><tr><td>&quot;B&quot;</td><td>2</td></tr><tr><td>&quot;C&quot;</td><td>1</td></tr><tr><td>&quot;X&quot;</td><td>2</td></tr></tbody></table></div>"
      ],
      "text/plain": [
       "shape: (4, 2)\n",
       "┌─────┬───────┐\n",
       "│ y   ┆ count │\n",
       "│ --- ┆ ---   │\n",
       "│ str ┆ u32   │\n",
       "╞═════╪═══════╡\n",
       "│ A   ┆ 3     │\n",
       "│ B   ┆ 2     │\n",
       "│ C   ┆ 1     │\n",
       "│ X   ┆ 2     │\n",
       "└─────┴───────┘"
      ]
     },
     "execution_count": 98,
     "metadata": {},
     "output_type": "execute_result"
    }
   ],
   "source": [
    "df2.group_by('y', maintain_order=True).count()"
   ]
  },
  {
   "cell_type": "code",
   "execution_count": 99,
   "metadata": {},
   "outputs": [
    {
     "data": {
      "text/html": [
       "<div><style>\n",
       ".dataframe > thead > tr,\n",
       ".dataframe > tbody > tr {\n",
       "  text-align: right;\n",
       "  white-space: pre-wrap;\n",
       "}\n",
       "</style>\n",
       "<small>shape: (4, 3)</small><table border=\"1\" class=\"dataframe\"><thead><tr><th>y</th><th>count</th><th>sum</th></tr><tr><td>str</td><td>u32</td><td>i64</td></tr></thead><tbody><tr><td>&quot;A&quot;</td><td>3</td><td>3</td></tr><tr><td>&quot;B&quot;</td><td>2</td><td>7</td></tr><tr><td>&quot;C&quot;</td><td>1</td><td>5</td></tr><tr><td>&quot;X&quot;</td><td>2</td><td>13</td></tr></tbody></table></div>"
      ],
      "text/plain": [
       "shape: (4, 3)\n",
       "┌─────┬───────┬─────┐\n",
       "│ y   ┆ count ┆ sum │\n",
       "│ --- ┆ ---   ┆ --- │\n",
       "│ str ┆ u32   ┆ i64 │\n",
       "╞═════╪═══════╪═════╡\n",
       "│ A   ┆ 3     ┆ 3   │\n",
       "│ B   ┆ 2     ┆ 7   │\n",
       "│ C   ┆ 1     ┆ 5   │\n",
       "│ X   ┆ 2     ┆ 13  │\n",
       "└─────┴───────┴─────┘"
      ]
     },
     "execution_count": 99,
     "metadata": {},
     "output_type": "execute_result"
    }
   ],
   "source": [
    "df2 = df2.group_by('y', maintain_order=True).agg(\n",
    "    pl.col('*').count().alias('count'),\n",
    "    pl.col('*').sum().alias('sum'),\n",
    ")\n",
    "df2"
   ]
  },
  {
   "cell_type": "code",
   "execution_count": 100,
   "metadata": {},
   "outputs": [
    {
     "name": "stdout",
     "output_type": "stream",
     "text": [
      "shape: (4, 3)\n",
      "┌─────┬─────┬───────┐\n",
      "│ a   ┆ b   ┆ a * b │\n",
      "│ --- ┆ --- ┆ ---   │\n",
      "│ i64 ┆ f64 ┆ f64   │\n",
      "╞═════╪═════╪═══════╡\n",
      "│ 1   ┆ 4.0 ┆ 4.0   │\n",
      "│ 2   ┆ 5.0 ┆ 10.0  │\n",
      "│ 3   ┆ 6.0 ┆ 18.0  │\n",
      "│ 4   ┆ 7.0 ┆ 28.0  │\n",
      "└─────┴─────┴───────┘\n"
     ]
    }
   ],
   "source": [
    "df = pl.DataFrame(\n",
    "    {\n",
    "        \"a\": [1, 2, 3, 4],\n",
    "        \"b\": [4.0, 5.0, 6.0, 7.0],\n",
    "        \"c\": [\n",
    "            datetime(2022, 1, 1),\n",
    "            datetime(2022, 1, 2),\n",
    "            datetime(2022, 1, 2),\n",
    "            datetime(2022, 1, 3),],\n",
    "        \"d\": [1.1, 1.2, 1.3, 1.4]\n",
    "    }\n",
    ")\n",
    "\n",
    "df_x = df.with_columns((pl.col(\"a\") * pl.col(\"b\"))\\\n",
    "    .alias(\"a * b\"))\\\n",
    "    .select(\n",
    "        pl.all()\\\n",
    "        .exclude([\"c\", \"d\"])\n",
    ")\n",
    "\n",
    "print(df_x)"
   ]
  },
  {
   "cell_type": "code",
   "execution_count": 101,
   "metadata": {},
   "outputs": [
    {
     "name": "stdout",
     "output_type": "stream",
     "text": [
      "shape: (4, 4)\n",
      "┌─────┬─────┬─────────────────────┬───────┐\n",
      "│ a   ┆ b   ┆ c                   ┆ a * b │\n",
      "│ --- ┆ --- ┆ ---                 ┆ ---   │\n",
      "│ i64 ┆ f64 ┆ datetime[μs]        ┆ f64   │\n",
      "╞═════╪═════╪═════════════════════╪═══════╡\n",
      "│ 1   ┆ 4.0 ┆ 2022-01-01 00:00:00 ┆ 4.0   │\n",
      "│ 2   ┆ 5.0 ┆ 2022-01-02 00:00:00 ┆ 10.0  │\n",
      "│ 3   ┆ 6.0 ┆ 2022-01-02 00:00:00 ┆ 18.0  │\n",
      "│ 4   ┆ 7.0 ┆ 2022-01-03 00:00:00 ┆ 28.0  │\n",
      "└─────┴─────┴─────────────────────┴───────┘\n"
     ]
    }
   ],
   "source": [
    "df_y = df.with_columns((pl.col(\"a\") * pl.col(\"b\"))\\\n",
    "    .alias(\"a * b\"))\\\n",
    "    .select(\n",
    "        pl.all()\\\n",
    "        .exclude(\"d\")\n",
    ")\n",
    "\n",
    "print(df_y)"
   ]
  },
  {
   "cell_type": "markdown",
   "metadata": {},
   "source": [
    "### Combining DataFrames"
   ]
  },
  {
   "cell_type": "code",
   "execution_count": 102,
   "metadata": {},
   "outputs": [
    {
     "name": "stdout",
     "output_type": "stream",
     "text": [
      "shape: (8, 4)\n",
      "┌─────┬──────────┬───────┬─────┐\n",
      "│ a   ┆ b        ┆ d     ┆ y   │\n",
      "│ --- ┆ ---      ┆ ---   ┆ --- │\n",
      "│ i64 ┆ f64      ┆ f64   ┆ str │\n",
      "╞═════╪══════════╪═══════╪═════╡\n",
      "│ 0   ┆ 0.562951 ┆ 1.0   ┆ A   │\n",
      "│ 1   ┆ 0.964259 ┆ 2.0   ┆ A   │\n",
      "│ 2   ┆ 0.021492 ┆ NaN   ┆ A   │\n",
      "│ 3   ┆ 0.455607 ┆ NaN   ┆ B   │\n",
      "│ 4   ┆ 0.505398 ┆ 0.0   ┆ B   │\n",
      "│ 5   ┆ 0.626036 ┆ -5.0  ┆ C   │\n",
      "│ 6   ┆ 0.578255 ┆ -42.0 ┆ X   │\n",
      "│ 7   ┆ 0.62413  ┆ null  ┆ X   │\n",
      "└─────┴──────────┴───────┴─────┘\n"
     ]
    }
   ],
   "source": [
    "df = pl.DataFrame(\n",
    "    {\n",
    "        \"a\": range(8),\n",
    "        \"b\": np.random.rand(8),\n",
    "        \"d\": [1, 2.0, float(\"nan\"), float(\"nan\"), 0, -5, -42, None],\n",
    "    }\n",
    ")\n",
    "\n",
    "df2 = pl.DataFrame(\n",
    "    {\n",
    "        \"x\": range(8),\n",
    "        \"y\": [\"A\", \"A\", \"A\", \"B\", \"B\", \"C\", \"X\", \"X\"],\n",
    "    }\n",
    ")\n",
    "joined = df.join(df2, left_on=\"a\", right_on=\"x\")\n",
    "print(joined)"
   ]
  },
  {
   "cell_type": "markdown",
   "metadata": {},
   "source": [
    "### Concat\n",
    "\n",
    "Vertical concatenation will make the DataFrame longer. Horizontal concatenation will make the DataFrame wider."
   ]
  },
  {
   "cell_type": "code",
   "execution_count": 103,
   "metadata": {},
   "outputs": [
    {
     "name": "stdout",
     "output_type": "stream",
     "text": [
      "shape: (8, 5)\n",
      "┌─────┬──────────┬───────┬─────┬─────┐\n",
      "│ a   ┆ b        ┆ d     ┆ x   ┆ y   │\n",
      "│ --- ┆ ---      ┆ ---   ┆ --- ┆ --- │\n",
      "│ i64 ┆ f64      ┆ f64   ┆ i64 ┆ str │\n",
      "╞═════╪══════════╪═══════╪═════╪═════╡\n",
      "│ 0   ┆ 0.562951 ┆ 1.0   ┆ 0   ┆ A   │\n",
      "│ 1   ┆ 0.964259 ┆ 2.0   ┆ 1   ┆ A   │\n",
      "│ 2   ┆ 0.021492 ┆ NaN   ┆ 2   ┆ A   │\n",
      "│ 3   ┆ 0.455607 ┆ NaN   ┆ 3   ┆ B   │\n",
      "│ 4   ┆ 0.505398 ┆ 0.0   ┆ 4   ┆ B   │\n",
      "│ 5   ┆ 0.626036 ┆ -5.0  ┆ 5   ┆ C   │\n",
      "│ 6   ┆ 0.578255 ┆ -42.0 ┆ 6   ┆ X   │\n",
      "│ 7   ┆ 0.62413  ┆ null  ┆ 7   ┆ X   │\n",
      "└─────┴──────────┴───────┴─────┴─────┘\n"
     ]
    }
   ],
   "source": [
    "stacked = df.hstack(df2)\n",
    "print(stacked)"
   ]
  }
 ],
 "metadata": {
  "kernelspec": {
   "display_name": ".venv",
   "language": "python",
   "name": "python3"
  },
  "language_info": {
   "codemirror_mode": {
    "name": "ipython",
    "version": 3
   },
   "file_extension": ".py",
   "mimetype": "text/x-python",
   "name": "python",
   "nbconvert_exporter": "python",
   "pygments_lexer": "ipython3",
   "version": "3.10.12"
  }
 },
 "nbformat": 4,
 "nbformat_minor": 2
}
